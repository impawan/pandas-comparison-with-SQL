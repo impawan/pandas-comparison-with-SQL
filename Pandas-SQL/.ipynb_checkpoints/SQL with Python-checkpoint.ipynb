{
 "cells": [
  {
   "cell_type": "code",
   "execution_count": null,
   "metadata": {},
   "outputs": [],
   "source": [
    "import cx_Oracle\n",
    "import pandas as pd\n",
    "import numpy as np"
   ]
  },
  {
   "cell_type": "code",
   "execution_count": null,
   "metadata": {},
   "outputs": [],
   "source": [
    "conn = cx_Oracle.connect('PYTHON/PYTHON@localhost')"
   ]
  },
  {
   "cell_type": "code",
   "execution_count": null,
   "metadata": {},
   "outputs": [],
   "source": [
    "sql_query = ''"
   ]
  },
  {
   "cell_type": "code",
   "execution_count": null,
   "metadata": {},
   "outputs": [],
   "source": [
    "def check_SQL_result(query = sql_query,conn=conn):\n",
    "    result_df = pd.read_sql(query, con=conn)\n",
    "    print(result_df)\n"
   ]
  },
  {
   "cell_type": "code",
   "execution_count": null,
   "metadata": {},
   "outputs": [],
   "source": [
    "def load_data_frame (table_name , conn = conn):\n",
    "    query = 'SELECT * FROM '+table_name\n",
    "    df_ora = pd.read_sql(query, con=conn)\n",
    "    return df_ora\n"
   ]
  },
  {
   "cell_type": "markdown",
   "metadata": {},
   "source": [
    "### E1_Big Countries"
   ]
  },
  {
   "cell_type": "code",
   "execution_count": null,
   "metadata": {},
   "outputs": [],
   "source": [
    "\"\"\"/* \n",
    "There is a table World\n",
    "+-----------------+------------+------------+--------------+---------------+\n",
    "| name            | continent  | area       | population   | gdp           |\n",
    "+-----------------+------------+------------+--------------+---------------+\n",
    "| Afghanistan     | Asia       | 652230     | 25500100     | 20343000      |\n",
    "| Albania         | Europe     | 28748      | 2831741      | 12960000      |\n",
    "| Algeria         | Africa     | 2381741    | 37100000     | 188681000     |\n",
    "| Andorra         | Europe     | 468        | 78115        | 3712000       |\n",
    "| Angola          | Africa     | 1246700    | 20609294     | 100990000     |\n",
    "+-----------------+------------+------------+--------------+---------------+\n",
    "A country is big if it has an area of bigger than 3 million square km or a population of more than 25 million.\n",
    "\n",
    "Write a SQL solution to output big countries' name, population and area.\n",
    "*/\n",
    "\n",
    "CREATE TABLE WORLD (NAME VARCHAR(255), CONTINENT VARCHAR(255), AREA INT, POPULATION INT, GDP INT);\n",
    "\n",
    "TRUNCATE TABLE WORLD;\n",
    "INSERT ALL \n",
    "INTO WORLD (NAME, CONTINENT, AREA, POPULATION, GDP) VALUES ('AFGHANISTAN', 'ASIA', '652230', '25500100', '20343000000')\n",
    "INTO WORLD (NAME, CONTINENT, AREA, POPULATION, GDP) VALUES ('ALBANIA', 'EUROPE', '28748', '2831741', '12960000000')\n",
    "INTO WORLD (NAME, CONTINENT, AREA, POPULATION, GDP) VALUES ('ALGERIA', 'AFRICA', '2381741', '37100000', '188681000000')\n",
    "INTO WORLD (NAME, CONTINENT, AREA, POPULATION, GDP) VALUES ('ANDORRA', 'EUROPE', '468', '78115', '3712000000')\n",
    "INTO WORLD (NAME, CONTINENT, AREA, POPULATION, GDP) VALUES ('ANGOLA', 'AFRICA', '1246700', '20609294', '100990000000')\n",
    "SELECT * FROM DUAL;\n",
    "\n",
    "SELECT * FROM WORLD;\n",
    "\"\"\"\n",
    "print()"
   ]
  },
  {
   "cell_type": "markdown",
   "metadata": {},
   "source": [
    "SQL Query \n",
    "\n",
    "SELECT NAME, \n",
    "POPULATION, \n",
    "AREA\n",
    "FROM WORLD\n",
    "WHERE AREA > 3000000 OR POPULATION > 25000000;\n"
   ]
  },
  {
   "cell_type": "code",
   "execution_count": null,
   "metadata": {},
   "outputs": [],
   "source": [
    "df_ora = load_data_frame('WORLD')"
   ]
  },
  {
   "cell_type": "code",
   "execution_count": null,
   "metadata": {},
   "outputs": [],
   "source": [
    "df_ora[(df_ora['AREA'] > 3000000) | (df_ora['POPULATION'] > 25000000 )][['NAME','POPULATION','AREA']]"
   ]
  },
  {
   "cell_type": "code",
   "execution_count": null,
   "metadata": {},
   "outputs": [],
   "source": [
    "result_query = \"SELECT NAME, POPULATION, AREA FROM WORLD WHERE AREA > 3000000 OR POPULATION > 25000000\""
   ]
  },
  {
   "cell_type": "code",
   "execution_count": null,
   "metadata": {},
   "outputs": [],
   "source": [
    "check_SQL_result(result_query)"
   ]
  },
  {
   "cell_type": "markdown",
   "metadata": {},
   "source": [
    "### E2_Swap Salary"
   ]
  },
  {
   "cell_type": "code",
   "execution_count": null,
   "metadata": {},
   "outputs": [],
   "source": [
    "\"\"\"/*\n",
    "Given a table salary, such as the one below, that has m=male and f=female values. \n",
    "Swap all f and m values (i.e., change all f values to m and vice versa) with a single update statement and no intermediate temp table.\n",
    "\n",
    "Note that you must write a single update statement, DO NOT write any select statement for this problem.\n",
    "Example:\n",
    "\n",
    "| id | name | sex | salary |\n",
    "|----|------|-----|--------|\n",
    "| 1  | A    | m   | 2500   |\n",
    "| 2  | B    | f   | 1500   |\n",
    "| 3  | C    | m   | 5500   |\n",
    "| 4  | D    | f   | 500    |\n",
    "After running your update statement, the above salary table should have the following rows:\n",
    "| id | name | sex | salary |\n",
    "|----|------|-----|--------|\n",
    "| 1  | A    | f   | 2500   |\n",
    "| 2  | B    | m   | 1500   |\n",
    "| 3  | C    | f   | 5500   |\n",
    "| 4  | D    | m   | 500    |\n",
    "*/\n",
    "\n",
    "CREATE TABLE SALARY(ID INT, NAME VARCHAR(100), SEX CHAR(1), SALARY INT);\n",
    "TRUNCATE TABLE SALARY;\n",
    "INSERT ALL \n",
    "INTO SALARY (ID, NAME, SEX, SALARY) VALUES ('1', 'A', 'M', '2500')\n",
    "INTO SALARY (ID, NAME, SEX, SALARY) VALUES ('2', 'B', 'F', '1500')\n",
    "INTO SALARY (ID, NAME, SEX, SALARY) VALUES ('3', 'C', 'M', '5500')\n",
    "INTO SALARY (ID, NAME, SEX, SALARY) VALUES ('4', 'D', 'F', '500')\n",
    "SELECT * FROM DUAL;\n",
    "\n",
    "SELECT * FROM SALARY;\n",
    "COMMIT;\n",
    "\"\"\"\n",
    "print()"
   ]
  },
  {
   "cell_type": "markdown",
   "metadata": {},
   "source": [
    "SQL Query \n",
    "Method 1. update salary  set sex = decode(sex,'M','F','M');\n",
    "\n",
    "Method 2. update salary set sex = case\n",
    "                        when sex = 'F' then 'M'\n",
    "                        else 'F'\n",
    "                    end"
   ]
  },
  {
   "cell_type": "code",
   "execution_count": null,
   "metadata": {},
   "outputs": [],
   "source": [
    "df_ora = load_data_frame('SALARY')"
   ]
  },
  {
   "cell_type": "code",
   "execution_count": null,
   "metadata": {},
   "outputs": [],
   "source": [
    "df_ora"
   ]
  },
  {
   "cell_type": "code",
   "execution_count": null,
   "metadata": {},
   "outputs": [],
   "source": [
    "#Method 1\n",
    "df_ora['SEX'] = np.where(df_ora['SEX']=='M', 'F', 'M')"
   ]
  },
  {
   "cell_type": "code",
   "execution_count": null,
   "metadata": {},
   "outputs": [],
   "source": [
    "df_ora"
   ]
  },
  {
   "cell_type": "code",
   "execution_count": null,
   "metadata": {},
   "outputs": [],
   "source": [
    "#Method 2\n",
    "df_ora['SEX'] = df_ora['SEX'].apply({'F':'M', 'M':'F'}.get)"
   ]
  },
  {
   "cell_type": "code",
   "execution_count": null,
   "metadata": {},
   "outputs": [],
   "source": [
    "df_ora"
   ]
  },
  {
   "cell_type": "code",
   "execution_count": null,
   "metadata": {},
   "outputs": [],
   "source": [
    "\"\"\"\n",
    "/*\n",
    "X city opened a new cinema, many people would like to go to this cinema. The cinema also gives out a poster indicating the movies ratings and descriptions.\n",
    "\n",
    "Please write a SQL query to output movies with an odd numbered ID and a description that is not 'boring'. \n",
    "Order the result by rating.\n",
    "\n",
    "\n",
    "For example, table cinema:\\\n",
    "+---------+-----------+--------------+-----------+\n",
    "|   id    | movie     |  description |  rating   |\n",
    "+---------+-----------+--------------+-----------+\n",
    "|   1     | War       |   great 3D   |   8.9     |\n",
    "|   2     | Science   |   fiction    |   8.5     |\n",
    "|   3     | irish     |   boring     |   6.2     |\n",
    "|   4     | Ice song  |   Fantacy    |   8.6     |\n",
    "|   5     | House card|   Interesting|   9.1     |\n",
    "+---------+-----------+--------------+-----------+\n",
    "\n",
    "For the example above, the output should be:\n",
    "+---------+-----------+--------------+-----------+\n",
    "|   id    | movie     |  description |  rating   |\n",
    "+---------+-----------+--------------+-----------+\n",
    "|   5     | House card|   Interesting|   9.1     |\n",
    "|   1     | War       |   great 3D   |   8.9     |\n",
    "+---------+-----------+--------------+-----------+\n",
    "*/\n",
    "\n",
    "CREATE TABLE CINEMA (ID INT, MOVIE VARCHAR(255), DESCRIPTION VARCHAR(255), RATING FLOAT);\n",
    "TRUNCATE TABLE CINEMA;\n",
    "INSERT ALL \n",
    "INTO CINEMA (ID, MOVIE, DESCRIPTION, RATING) VALUES ('1', 'WAR', 'GREAT 3D', '8.9')\n",
    "INTO CINEMA (ID, MOVIE, DESCRIPTION, RATING) VALUES ('2', 'SCIENCE', 'FICTION', '8.5')\n",
    "INTO CINEMA (ID, MOVIE, DESCRIPTION, RATING) VALUES ('3', 'IRISH', 'BORING', '6.2')\n",
    "INTO CINEMA (ID, MOVIE, DESCRIPTION, RATING) VALUES ('4', 'ICE SONG', 'FANTACY', '8.6')\n",
    "INTO CINEMA (ID, MOVIE, DESCRIPTION, RATING) VALUES ('5', 'HOUSE CARD', 'INTERESTING', '9.1')\n",
    "SELECT * FROM DUAL;\n",
    "SELECT * FROM CINEMA;\n",
    "COMMIT;\n",
    "\n",
    "\n",
    "SELECT *\n",
    "FROM CINEMA\n",
    "WHERE MOD(ID,2) = 1 --%2, \n",
    "AND DESCRIPTION != 'BORING'\n",
    "ORDER BY RATING DESC;\n",
    "\"\"\"\n",
    "print()"
   ]
  },
  {
   "cell_type": "code",
   "execution_count": null,
   "metadata": {},
   "outputs": [],
   "source": [
    "df = load_data_frame('CINEMA')"
   ]
  },
  {
   "cell_type": "code",
   "execution_count": null,
   "metadata": {},
   "outputs": [],
   "source": [
    "df"
   ]
  },
  {
   "cell_type": "code",
   "execution_count": null,
   "metadata": {},
   "outputs": [],
   "source": [
    "df[(df['ID']%2 != 0) & (df['DESCRIPTION'] != 'BORING') ].sort_values(['ID'],ascending = False)"
   ]
  },
  {
   "cell_type": "code",
   "execution_count": null,
   "metadata": {},
   "outputs": [],
   "source": [
    "sql_query = \"SELECT * FROM CINEMA WHERE MOD(ID,2) = 1 AND DESCRIPTION != 'BORING' ORDER BY RATING DESC\""
   ]
  },
  {
   "cell_type": "code",
   "execution_count": null,
   "metadata": {},
   "outputs": [],
   "source": [
    "check_SQL_result(sql_query)"
   ]
  },
  {
   "cell_type": "markdown",
   "metadata": {},
   "source": [
    "### Duplicate Email "
   ]
  },
  {
   "cell_type": "code",
   "execution_count": null,
   "metadata": {},
   "outputs": [],
   "source": [
    "\"\"\"\n",
    "/*\n",
    "Write a SQL query to find all duplicate emails in a table named Person.\n",
    "+----+---------+\n",
    "| Id | Email   |\n",
    "+----+---------+\n",
    "| 1  | a@b.com |\n",
    "| 2  | c@d.com |\n",
    "| 3  | a@b.com |\n",
    "+----+---------+\n",
    "\n",
    "For example, your query should return the following for the above table:\n",
    "\n",
    "+---------+\n",
    "| Email   |\n",
    "+---------+\n",
    "| a@b.com |\n",
    "+---------+\n",
    "Note: All emails are in lowercase.\n",
    "*/\n",
    "\n",
    "CREATE TABLE PERSON (ID INT, EMAIL VARCHAR(255));\n",
    "TRUNCATE TABLE PERSON;\n",
    "INSERT ALL \n",
    "INTO PERSON (ID, EMAIL) VALUES ('1', 'A@B.COM')\n",
    "INTO PERSON (ID, EMAIL) VALUES ('2', 'C@D.COM')\n",
    "INTO PERSON (ID, EMAIL) VALUES ('3', 'A@B.COM')\n",
    "SELECT * FROM DUAL;\n",
    "SELECT * FROM PERSON;\n",
    "COMMIT;\n",
    "\n",
    "SELECT EMAIL\n",
    "FROM PERSON\n",
    "GROUP BY EMAIL\n",
    "HAVING COUNT(EMAIL) > 1; --GROUP BY SHOULD BE USED WITH \"HAVING\"\n",
    "\n",
    "\"\"\"\n",
    "print()"
   ]
  },
  {
   "cell_type": "code",
   "execution_count": null,
   "metadata": {},
   "outputs": [],
   "source": [
    "df = load_data_frame('PERSON')"
   ]
  },
  {
   "cell_type": "code",
   "execution_count": null,
   "metadata": {},
   "outputs": [],
   "source": [
    "df.groupby('EMAIL').filter(lambda group : len(group)>1).groupby('EMAIL').last().reset_index().EMAIL"
   ]
  },
  {
   "cell_type": "code",
   "execution_count": null,
   "metadata": {},
   "outputs": [],
   "source": [
    "sql_query = \"SELECT EMAIL FROM PERSON GROUP BY EMAIL HAVING COUNT(EMAIL) > 1\""
   ]
  },
  {
   "cell_type": "code",
   "execution_count": null,
   "metadata": {},
   "outputs": [],
   "source": [
    "check_SQL_result()"
   ]
  },
  {
   "cell_type": "markdown",
   "metadata": {},
   "source": [
    "### Analyse Sales Part 1"
   ]
  },
  {
   "cell_type": "code",
   "execution_count": null,
   "metadata": {},
   "outputs": [],
   "source": [
    "\"\"\"\n",
    "/*\n",
    " * Reports all product names of the products in the Sales table along with their selling year and price\n",
    " * \n",
    "Sales table:\n",
    "+---------+------------+------+----------+-------+\n",
    "| sale_id | product_id | year | quantity | price |\n",
    "+---------+------------+------+----------+-------+ \n",
    "| 1       | 100        | 2008 | 10       | 5000  |\n",
    "| 2       | 100        | 2009 | 12       | 5000  |\n",
    "| 7       | 200        | 2011 | 15       | 9000  |\n",
    "+---------+------------+------+----------+-------+\n",
    "\n",
    "Product table:\n",
    "+------------+--------------+\n",
    "| product_id | product_name |\n",
    "+------------+--------------+\n",
    "| 100        | Nokia        |\n",
    "| 200        | Apple        |\n",
    "| 300        | Samsung      |\n",
    "+------------+--------------+\n",
    "\n",
    "Result table:\n",
    "+--------------+-------+-------+\n",
    "| product_name | year  | price |\n",
    "+--------------+-------+-------+\n",
    "| Nokia        | 2008  | 5000  |\n",
    "| Nokia        | 2009  | 5000  |\n",
    "| Apple        | 2011  | 9000  |\n",
    "+--------------+-------+-------+*/\n",
    "\n",
    "DROP TABLE SALES;\n",
    "CREATE TABLE SALES (SALE_ID INT, PRODUCT_ID INT, YEAR INT, QUANTITY INT, PRICE INT);\n",
    "TRUNCATE TABLE SALES;\n",
    "INSERT ALL \n",
    "INTO SALES (SALE_ID, PRODUCT_ID, YEAR, QUANTITY, PRICE) VALUES ('1', '100', '2008', '10', '5000')\n",
    "INTO SALES (SALE_ID, PRODUCT_ID, YEAR, QUANTITY, PRICE) VALUES ('2', '100', '2009', '12', '5000')\n",
    "INTO SALES (SALE_ID, PRODUCT_ID, YEAR, QUANTITY, PRICE) VALUES ('7', '200', '2011', '15', '9000')\n",
    "SELECT * FROM DUAL;\n",
    "SELECT * FROM SALES;\n",
    "\n",
    "DROP TABLE PRODUCT;\n",
    "CREATE TABLE PRODUCT (PRODUCT_ID INT, PRODUCT_NAME VARCHAR(255));\n",
    "TRUNCATE TABLE PRODUCT;\n",
    "INSERT ALL \n",
    "INTO PRODUCT (PRODUCT_ID, PRODUCT_NAME) VALUES ('100', 'NOKIA')\n",
    "INTO PRODUCT (PRODUCT_ID, PRODUCT_NAME) VALUES ('200', 'APPLE')\n",
    "INTO PRODUCT (PRODUCT_ID, PRODUCT_NAME) VALUES ('300', 'SAMSUNG')\n",
    "SELECT * FROM DUAL;\n",
    "SELECT * FROM PRODUCT;\n",
    "COMMIT;\n",
    "\n",
    "Result : \n",
    "\n",
    "select a.product_name,b.year,b.price from product a \n",
    "join sales b on a.product_id = b.product_id;\n",
    "\"\"\"\n",
    "\n",
    "print()"
   ]
  },
  {
   "cell_type": "code",
   "execution_count": null,
   "metadata": {},
   "outputs": [],
   "source": [
    "df_product = load_data_frame('PRODUCT')\n",
    "df_sales = load_data_frame('SALES')"
   ]
  },
  {
   "cell_type": "code",
   "execution_count": null,
   "metadata": {},
   "outputs": [],
   "source": [
    "#pd.merge(df1, indexed_df2, left_on='key', right_index=True)\n",
    "pd.merge(df_product,df_sales,on = 'PRODUCT_ID' )[['PRODUCT_NAME','YEAR','PRICE']]"
   ]
  },
  {
   "cell_type": "code",
   "execution_count": null,
   "metadata": {},
   "outputs": [],
   "source": [
    "sql_query = 'select a.product_name,b.year,b.price from product a join sales b on a.product_id = b.product_id'"
   ]
  },
  {
   "cell_type": "code",
   "execution_count": null,
   "metadata": {},
   "outputs": [],
   "source": [
    "check_SQL_result(sql_query)"
   ]
  },
  {
   "cell_type": "markdown",
   "metadata": {},
   "source": [
    "### Analyse Sales Part 2"
   ]
  },
  {
   "cell_type": "code",
   "execution_count": null,
   "metadata": {},
   "outputs": [],
   "source": [
    "\"\"\"\n",
    "Write an SQL query that reports the total quantity sold for every product id.\n",
    "\n",
    "The query result format is in the following example:\n",
    "\n",
    "Result table:\n",
    "+--------------+----------------+\n",
    "| product_id   | total_quantity |\n",
    "+--------------+----------------+\n",
    "| 100          | 22             |\n",
    "| 200          | 15             |\n",
    "+--------------+----------------+\n",
    "\n",
    "\"\"\"\n",
    "print()"
   ]
  },
  {
   "cell_type": "code",
   "execution_count": null,
   "metadata": {},
   "outputs": [],
   "source": [
    "df_sales.groupby('PRODUCT_ID').agg({'QUANTITY':np.sum})"
   ]
  },
  {
   "cell_type": "code",
   "execution_count": null,
   "metadata": {},
   "outputs": [],
   "source": [
    "\"\"\"\n",
    "/*Table: Activity\n",
    "+--------------+---------+\n",
    "| Column Name  | Type    |\n",
    "+--------------+---------+\n",
    "| player_id    | int     |\n",
    "| device_id    | int     |\n",
    "| event_date   | date    |\n",
    "| games_played | int     |\n",
    "+--------------+---------+\n",
    "(player_id, event_date) is the primary key of this table.\n",
    "This table shows the activity of players of some game.\n",
    "Each row is a record of a player who logged in and played a number of games (possibly 0) before logging out on some day using some device.\n",
    "\n",
    "Write an SQL query that reports the first login date for each player.\n",
    "\n",
    "The query result format is in the following example:\n",
    "\n",
    "Activity table:\n",
    "+-----------+-----------+------------+--------------+\n",
    "| player_id | device_id | event_date | games_played |\n",
    "+-----------+-----------+------------+--------------+\n",
    "| 1         | 2         | 2016-03-01 | 5            |\n",
    "| 1         | 2         | 2016-05-02 | 6            |\n",
    "| 2         | 3         | 2017-06-25 | 1            |\n",
    "| 3         | 1         | 2016-03-02 | 0            |\n",
    "| 3         | 4         | 2018-07-03 | 5            |\n",
    "+-----------+-----------+------------+--------------+\n",
    "\n",
    "Result table:\n",
    "+-----------+-------------+\n",
    "| player_id | first_login |\n",
    "+-----------+-------------+\n",
    "| 1         | 2016-03-01  |\n",
    "| 2         | 2017-06-25  |\n",
    "| 3         | 2016-03-02  |\n",
    "+-----------+-------------+*/\n",
    "\n",
    "DROP TABLE ACTIVITY;\n",
    "CREATE TABLE ACTIVITY (PLAYER_ID INT, DEVICE_ID INT, EVENT_DATE DATE, GAMES_PLAYED INT);\n",
    "TRUNCATE TABLE ACTIVITY;\n",
    "INSERT ALL\n",
    "INTO ACTIVITY (PLAYER_ID, DEVICE_ID, EVENT_DATE, GAMES_PLAYED) VALUES ('1', '2', TO_DATE('2016-03-01', 'YYYY-MM-DD'), '5')\n",
    "INTO ACTIVITY (PLAYER_ID, DEVICE_ID, EVENT_DATE, GAMES_PLAYED) VALUES ('1', '2', TO_DATE('2016-05-02', 'YYYY-MM-DD'), '6')\n",
    "INTO ACTIVITY (PLAYER_ID, DEVICE_ID, EVENT_DATE, GAMES_PLAYED) VALUES ('2', '3', TO_DATE('2017-06-25', 'YYYY-MM-DD'), '1')\n",
    "INTO ACTIVITY (PLAYER_ID, DEVICE_ID, EVENT_DATE, GAMES_PLAYED) VALUES ('3', '1', TO_DATE('2016-03-02', 'YYYY-MM-DD'), '0')\n",
    "INTO ACTIVITY (PLAYER_ID, DEVICE_ID, EVENT_DATE, GAMES_PLAYED) VALUES ('3', '4', TO_DATE('2018-07-03', 'YYYY-MM-DD'), '5')\n",
    "SELECT * FROM DUAL;\n",
    "SELECT * FROM ACTIVITY;\n",
    "\n",
    "SELECT PLAYER_ID,\n",
    "MIN(EVENT_DATE) FIRST_LOGIN\n",
    "FROM ACTIVITY\n",
    "GROUP BY PLAYER_ID;\n",
    "\n",
    "\"\"\"\n",
    "\n",
    "print()"
   ]
  },
  {
   "cell_type": "code",
   "execution_count": null,
   "metadata": {},
   "outputs": [],
   "source": [
    "df  = load_data_frame('ACTIVITY')"
   ]
  },
  {
   "cell_type": "code",
   "execution_count": null,
   "metadata": {},
   "outputs": [],
   "source": [
    "df.groupby('PLAYER_ID').agg({'EVENT_DATE':np.min}).sort_values('PLAYER_ID',ascending = True)"
   ]
  },
  {
   "cell_type": "code",
   "execution_count": null,
   "metadata": {},
   "outputs": [],
   "source": [
    "sql_query = 'SELECT PLAYER_ID, MIN(EVENT_DATE) FIRST_LOGIN FROM ACTIVITY GROUP BY PLAYER_ID'"
   ]
  },
  {
   "cell_type": "code",
   "execution_count": null,
   "metadata": {},
   "outputs": [],
   "source": [
    "check_SQL_result()"
   ]
  },
  {
   "cell_type": "code",
   "execution_count": 33,
   "metadata": {},
   "outputs": [
    {
     "name": "stdout",
     "output_type": "stream",
     "text": [
      "\n"
     ]
    }
   ],
   "source": [
    "\"\"\"\n",
    "/*\n",
    "The Employee table holds all employees including their managers. Every employee has an Id, and there is also a column for the manager Id.\n",
    "\n",
    "+----+-------+--------+-----------+\n",
    "| Id | Name  | Salary | ManagerId |\n",
    "+----+-------+--------+-----------+\n",
    "| 1  | Joe   | 70000  | 3         |\n",
    "| 2  | Henry | 80000  | 4         |\n",
    "| 3  | Sam   | 60000  | NULL      |\n",
    "| 4  | Max   | 90000  | NULL      |\n",
    "+----+-------+--------+-----------+\n",
    "Given the Employee table, write a SQL query that finds out employees who earn more than their managers. \n",
    "For the above table, Joe is the only employee who earns more than his manager.\n",
    "\n",
    "+----------+\n",
    "| Employee |\n",
    "+----------+\n",
    "| Joe      |\n",
    "+----------+\n",
    "*/\n",
    "\n",
    "DROP TABLE EMPLOYEE;\n",
    "CREATE TABLE EMPLOYEE (ID INT, NAME VARCHAR(255), SALARY INT, MANAGERID INT);\n",
    "TRUNCATE TABLE EMPLOYEE;\n",
    "INSERT ALL\n",
    "INTO EMPLOYEE (ID, NAME, SALARY, MANAGERID) VALUES ('1', 'JOE', '70000', '3')\n",
    "INTO EMPLOYEE (ID, NAME, SALARY, MANAGERID) VALUES ('2', 'HENRY', '80000', '4')\n",
    "INTO EMPLOYEE (ID, NAME, SALARY) VALUES ('3', 'SAM', '60000')\n",
    "INTO EMPLOYEE (ID, NAME, SALARY) VALUES ('4', 'MAX', '90000')\n",
    "SELECT * FROM DUAL;\n",
    "SELECT * FROM EMPLOYEE;\n",
    "commit;\n",
    "\n",
    "\n",
    "-- [METHOD 1]\n",
    "SELECT E.NAME AS EMPLOYEE\n",
    "FROM EMPLOYEE E, \n",
    "EMPLOYEE M\n",
    "WHERE E.MANAGERID= M.ID --SELF JOIN\n",
    "AND E.SALARY > M.SALARY\n",
    "\n",
    "\n",
    "--[METHOD 2]\n",
    "SELECT E.NAME AS EMPLOYEE\n",
    "FROM EMPLOYEE E\n",
    "WHERE EXISTS (\n",
    "               SELECT 1\n",
    "                 FROM EMPLOYEE M\n",
    "                WHERE E.MANAGERID = M.ID\n",
    "                  AND E.SALARY > M.SALARY\n",
    "              );\n",
    "--[METHOD 3]            \n",
    "select e1.name from employee e1 where e1.salary > (select e2.salary from employee e2 where e1.managerid = e2.id);\n",
    "--[METHOD 4]\n",
    "select e1.name from employee e1, employee e2 where e1.managerid = e2.id and e1.salary > e2.salary;\n",
    "\n",
    "\n",
    "\"\"\"\n",
    "print()"
   ]
  },
  {
   "cell_type": "code",
   "execution_count": 38,
   "metadata": {},
   "outputs": [],
   "source": [
    "df = load_data_frame('EMPLOYEE')"
   ]
  },
  {
   "cell_type": "code",
   "execution_count": null,
   "metadata": {},
   "outputs": [],
   "source": []
  },
  {
   "cell_type": "code",
   "execution_count": null,
   "metadata": {},
   "outputs": [],
   "source": []
  }
 ],
 "metadata": {
  "kernelspec": {
   "display_name": "Python 3",
   "language": "python",
   "name": "python3"
  },
  "language_info": {
   "codemirror_mode": {
    "name": "ipython",
    "version": 3
   },
   "file_extension": ".py",
   "mimetype": "text/x-python",
   "name": "python",
   "nbconvert_exporter": "python",
   "pygments_lexer": "ipython3",
   "version": "3.7.6"
  }
 },
 "nbformat": 4,
 "nbformat_minor": 4
}
