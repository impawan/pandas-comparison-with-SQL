{
 "cells": [
  {
   "cell_type": "code",
   "execution_count": null,
   "metadata": {},
   "outputs": [],
   "source": [
    "import cx_Oracle\n",
    "import pandas as pd\n",
    "import numpy as np"
   ]
  },
  {
   "cell_type": "code",
   "execution_count": null,
   "metadata": {},
   "outputs": [],
   "source": [
    "conn = cx_Oracle.connect('PYTHON/PYTHON@localhost')"
   ]
  },
  {
   "cell_type": "code",
   "execution_count": 103,
   "metadata": {},
   "outputs": [],
   "source": []
  },
  {
   "cell_type": "code",
   "execution_count": 109,
   "metadata": {},
   "outputs": [],
   "source": [
    "def check_SQL_result(query,conn=conn):\n",
    "    result_df = pd.read_sql(query, con=conn)\n",
    "    print(result_df)\n"
   ]
  },
  {
   "cell_type": "code",
   "execution_count": 105,
   "metadata": {},
   "outputs": [],
   "source": [
    "def load_data_frame (table_name , conn = conn):\n",
    "    query = 'SELECT * FROM '+table_name\n",
    "    df_ora = pd.read_sql(query, con=conn)\n",
    "    return df_ora\n"
   ]
  },
  {
   "cell_type": "markdown",
   "metadata": {},
   "source": [
    "### E1_Big Countries"
   ]
  },
  {
   "cell_type": "code",
   "execution_count": null,
   "metadata": {},
   "outputs": [],
   "source": [
    "\"\"\"/* \n",
    "There is a table World\n",
    "+-----------------+------------+------------+--------------+---------------+\n",
    "| name            | continent  | area       | population   | gdp           |\n",
    "+-----------------+------------+------------+--------------+---------------+\n",
    "| Afghanistan     | Asia       | 652230     | 25500100     | 20343000      |\n",
    "| Albania         | Europe     | 28748      | 2831741      | 12960000      |\n",
    "| Algeria         | Africa     | 2381741    | 37100000     | 188681000     |\n",
    "| Andorra         | Europe     | 468        | 78115        | 3712000       |\n",
    "| Angola          | Africa     | 1246700    | 20609294     | 100990000     |\n",
    "+-----------------+------------+------------+--------------+---------------+\n",
    "A country is big if it has an area of bigger than 3 million square km or a population of more than 25 million.\n",
    "\n",
    "Write a SQL solution to output big countries' name, population and area.\n",
    "*/\n",
    "\n",
    "CREATE TABLE WORLD (NAME VARCHAR(255), CONTINENT VARCHAR(255), AREA INT, POPULATION INT, GDP INT);\n",
    "\n",
    "TRUNCATE TABLE WORLD;\n",
    "INSERT ALL \n",
    "INTO WORLD (NAME, CONTINENT, AREA, POPULATION, GDP) VALUES ('AFGHANISTAN', 'ASIA', '652230', '25500100', '20343000000')\n",
    "INTO WORLD (NAME, CONTINENT, AREA, POPULATION, GDP) VALUES ('ALBANIA', 'EUROPE', '28748', '2831741', '12960000000')\n",
    "INTO WORLD (NAME, CONTINENT, AREA, POPULATION, GDP) VALUES ('ALGERIA', 'AFRICA', '2381741', '37100000', '188681000000')\n",
    "INTO WORLD (NAME, CONTINENT, AREA, POPULATION, GDP) VALUES ('ANDORRA', 'EUROPE', '468', '78115', '3712000000')\n",
    "INTO WORLD (NAME, CONTINENT, AREA, POPULATION, GDP) VALUES ('ANGOLA', 'AFRICA', '1246700', '20609294', '100990000000')\n",
    "SELECT * FROM DUAL;\n",
    "\n",
    "SELECT * FROM WORLD;\n",
    "\"\"\"\n",
    "print()"
   ]
  },
  {
   "cell_type": "markdown",
   "metadata": {},
   "source": [
    "SQL Query \n",
    "\n",
    "SELECT NAME, \n",
    "POPULATION, \n",
    "AREA\n",
    "FROM WORLD\n",
    "WHERE AREA > 3000000 OR POPULATION > 25000000;\n"
   ]
  },
  {
   "cell_type": "code",
   "execution_count": null,
   "metadata": {},
   "outputs": [],
   "source": [
    "df_ora = load_data_frame('WORLD')"
   ]
  },
  {
   "cell_type": "code",
   "execution_count": null,
   "metadata": {},
   "outputs": [],
   "source": [
    "df_ora[(df_ora['AREA'] > 3000000) | (df_ora['POPULATION'] > 25000000 )][['NAME','POPULATION','AREA']]"
   ]
  },
  {
   "cell_type": "code",
   "execution_count": null,
   "metadata": {},
   "outputs": [],
   "source": [
    "result_query = \"SELECT NAME, POPULATION, AREA FROM WORLD WHERE AREA > 3000000 OR POPULATION > 25000000\""
   ]
  },
  {
   "cell_type": "code",
   "execution_count": null,
   "metadata": {},
   "outputs": [],
   "source": [
    "check_SQL_result(result_query)"
   ]
  },
  {
   "cell_type": "markdown",
   "metadata": {},
   "source": [
    "### E2_Swap Salary"
   ]
  },
  {
   "cell_type": "code",
   "execution_count": null,
   "metadata": {},
   "outputs": [],
   "source": [
    "\"\"\"/*\n",
    "Given a table salary, such as the one below, that has m=male and f=female values. \n",
    "Swap all f and m values (i.e., change all f values to m and vice versa) with a single update statement and no intermediate temp table.\n",
    "\n",
    "Note that you must write a single update statement, DO NOT write any select statement for this problem.\n",
    "Example:\n",
    "\n",
    "| id | name | sex | salary |\n",
    "|----|------|-----|--------|\n",
    "| 1  | A    | m   | 2500   |\n",
    "| 2  | B    | f   | 1500   |\n",
    "| 3  | C    | m   | 5500   |\n",
    "| 4  | D    | f   | 500    |\n",
    "After running your update statement, the above salary table should have the following rows:\n",
    "| id | name | sex | salary |\n",
    "|----|------|-----|--------|\n",
    "| 1  | A    | f   | 2500   |\n",
    "| 2  | B    | m   | 1500   |\n",
    "| 3  | C    | f   | 5500   |\n",
    "| 4  | D    | m   | 500    |\n",
    "*/\n",
    "\n",
    "CREATE TABLE SALARY(ID INT, NAME VARCHAR(100), SEX CHAR(1), SALARY INT);\n",
    "TRUNCATE TABLE SALARY;\n",
    "INSERT ALL \n",
    "INTO SALARY (ID, NAME, SEX, SALARY) VALUES ('1', 'A', 'M', '2500')\n",
    "INTO SALARY (ID, NAME, SEX, SALARY) VALUES ('2', 'B', 'F', '1500')\n",
    "INTO SALARY (ID, NAME, SEX, SALARY) VALUES ('3', 'C', 'M', '5500')\n",
    "INTO SALARY (ID, NAME, SEX, SALARY) VALUES ('4', 'D', 'F', '500')\n",
    "SELECT * FROM DUAL;\n",
    "\n",
    "SELECT * FROM SALARY;\n",
    "COMMIT;\n",
    "\"\"\"\n",
    "print()"
   ]
  },
  {
   "cell_type": "markdown",
   "metadata": {},
   "source": [
    "SQL Query \n",
    "Method 1. update salary  set sex = decode(sex,'M','F','M');\n",
    "\n",
    "Method 2. update salary set sex = case\n",
    "                        when sex = 'F' then 'M'\n",
    "                        else 'F'\n",
    "                    end"
   ]
  },
  {
   "cell_type": "code",
   "execution_count": null,
   "metadata": {},
   "outputs": [],
   "source": [
    "df_ora = load_data_frame('SALARY')"
   ]
  },
  {
   "cell_type": "code",
   "execution_count": null,
   "metadata": {},
   "outputs": [],
   "source": [
    "df_ora"
   ]
  },
  {
   "cell_type": "code",
   "execution_count": null,
   "metadata": {},
   "outputs": [],
   "source": [
    "#Method 1\n",
    "df_ora['SEX'] = np.where(df_ora['SEX']=='M', 'F', 'M')"
   ]
  },
  {
   "cell_type": "code",
   "execution_count": null,
   "metadata": {},
   "outputs": [],
   "source": [
    "df_ora"
   ]
  },
  {
   "cell_type": "code",
   "execution_count": null,
   "metadata": {},
   "outputs": [],
   "source": [
    "#Method 2\n",
    "df_ora['SEX'] = df_ora['SEX'].apply({'F':'M', 'M':'F'}.get)"
   ]
  },
  {
   "cell_type": "code",
   "execution_count": null,
   "metadata": {},
   "outputs": [],
   "source": [
    "df_ora"
   ]
  },
  {
   "cell_type": "code",
   "execution_count": null,
   "metadata": {},
   "outputs": [],
   "source": [
    "\"\"\"\n",
    "/*\n",
    "X city opened a new cinema, many people would like to go to this cinema. The cinema also gives out a poster indicating the movies ratings and descriptions.\n",
    "\n",
    "Please write a SQL query to output movies with an odd numbered ID and a description that is not 'boring'. \n",
    "Order the result by rating.\n",
    "\n",
    "\n",
    "For example, table cinema:\\\n",
    "+---------+-----------+--------------+-----------+\n",
    "|   id    | movie     |  description |  rating   |\n",
    "+---------+-----------+--------------+-----------+\n",
    "|   1     | War       |   great 3D   |   8.9     |\n",
    "|   2     | Science   |   fiction    |   8.5     |\n",
    "|   3     | irish     |   boring     |   6.2     |\n",
    "|   4     | Ice song  |   Fantacy    |   8.6     |\n",
    "|   5     | House card|   Interesting|   9.1     |\n",
    "+---------+-----------+--------------+-----------+\n",
    "\n",
    "For the example above, the output should be:\n",
    "+---------+-----------+--------------+-----------+\n",
    "|   id    | movie     |  description |  rating   |\n",
    "+---------+-----------+--------------+-----------+\n",
    "|   5     | House card|   Interesting|   9.1     |\n",
    "|   1     | War       |   great 3D   |   8.9     |\n",
    "+---------+-----------+--------------+-----------+\n",
    "*/\n",
    "\n",
    "CREATE TABLE CINEMA (ID INT, MOVIE VARCHAR(255), DESCRIPTION VARCHAR(255), RATING FLOAT);\n",
    "TRUNCATE TABLE CINEMA;\n",
    "INSERT ALL \n",
    "INTO CINEMA (ID, MOVIE, DESCRIPTION, RATING) VALUES ('1', 'WAR', 'GREAT 3D', '8.9')\n",
    "INTO CINEMA (ID, MOVIE, DESCRIPTION, RATING) VALUES ('2', 'SCIENCE', 'FICTION', '8.5')\n",
    "INTO CINEMA (ID, MOVIE, DESCRIPTION, RATING) VALUES ('3', 'IRISH', 'BORING', '6.2')\n",
    "INTO CINEMA (ID, MOVIE, DESCRIPTION, RATING) VALUES ('4', 'ICE SONG', 'FANTACY', '8.6')\n",
    "INTO CINEMA (ID, MOVIE, DESCRIPTION, RATING) VALUES ('5', 'HOUSE CARD', 'INTERESTING', '9.1')\n",
    "SELECT * FROM DUAL;\n",
    "SELECT * FROM CINEMA;\n",
    "COMMIT;\n",
    "\n",
    "\n",
    "SELECT *\n",
    "FROM CINEMA\n",
    "WHERE MOD(ID,2) = 1 --%2, \n",
    "AND DESCRIPTION != 'BORING'\n",
    "ORDER BY RATING DESC;\n",
    "\"\"\"\n",
    "print()"
   ]
  },
  {
   "cell_type": "code",
   "execution_count": null,
   "metadata": {},
   "outputs": [],
   "source": [
    "df = load_data_frame('CINEMA')"
   ]
  },
  {
   "cell_type": "code",
   "execution_count": null,
   "metadata": {},
   "outputs": [],
   "source": [
    "df"
   ]
  },
  {
   "cell_type": "code",
   "execution_count": null,
   "metadata": {},
   "outputs": [],
   "source": [
    "df[(df['ID']%2 != 0) & (df['DESCRIPTION'] != 'BORING') ].sort_values(['ID'],ascending = False)"
   ]
  },
  {
   "cell_type": "code",
   "execution_count": null,
   "metadata": {},
   "outputs": [],
   "source": [
    "sql_query = \"SELECT * FROM CINEMA WHERE MOD(ID,2) = 1 AND DESCRIPTION != 'BORING' ORDER BY RATING DESC\""
   ]
  },
  {
   "cell_type": "code",
   "execution_count": null,
   "metadata": {},
   "outputs": [],
   "source": [
    "check_SQL_result(sql_query)"
   ]
  },
  {
   "cell_type": "markdown",
   "metadata": {},
   "source": [
    "### Duplicate Email "
   ]
  },
  {
   "cell_type": "code",
   "execution_count": null,
   "metadata": {},
   "outputs": [],
   "source": [
    "\"\"\"\n",
    "/*\n",
    "Write a SQL query to find all duplicate emails in a table named Person.\n",
    "+----+---------+\n",
    "| Id | Email   |\n",
    "+----+---------+\n",
    "| 1  | a@b.com |\n",
    "| 2  | c@d.com |\n",
    "| 3  | a@b.com |\n",
    "+----+---------+\n",
    "\n",
    "For example, your query should return the following for the above table:\n",
    "\n",
    "+---------+\n",
    "| Email   |\n",
    "+---------+\n",
    "| a@b.com |\n",
    "+---------+\n",
    "Note: All emails are in lowercase.\n",
    "*/\n",
    "\n",
    "CREATE TABLE PERSON (ID INT, EMAIL VARCHAR(255));\n",
    "TRUNCATE TABLE PERSON;\n",
    "INSERT ALL \n",
    "INTO PERSON (ID, EMAIL) VALUES ('1', 'A@B.COM')\n",
    "INTO PERSON (ID, EMAIL) VALUES ('2', 'C@D.COM')\n",
    "INTO PERSON (ID, EMAIL) VALUES ('3', 'A@B.COM')\n",
    "SELECT * FROM DUAL;\n",
    "SELECT * FROM PERSON;\n",
    "COMMIT;\n",
    "\n",
    "SELECT EMAIL\n",
    "FROM PERSON\n",
    "GROUP BY EMAIL\n",
    "HAVING COUNT(EMAIL) > 1; --GROUP BY SHOULD BE USED WITH \"HAVING\"\n",
    "\n",
    "\"\"\"\n",
    "print()"
   ]
  },
  {
   "cell_type": "code",
   "execution_count": null,
   "metadata": {},
   "outputs": [],
   "source": [
    "df = load_data_frame('PERSON')"
   ]
  },
  {
   "cell_type": "code",
   "execution_count": null,
   "metadata": {},
   "outputs": [],
   "source": [
    "df.groupby('EMAIL').filter(lambda group : len(group)>1).groupby('EMAIL').last().reset_index().EMAIL"
   ]
  },
  {
   "cell_type": "code",
   "execution_count": null,
   "metadata": {},
   "outputs": [],
   "source": [
    "sql_query = \"SELECT EMAIL FROM PERSON GROUP BY EMAIL HAVING COUNT(EMAIL) > 1\""
   ]
  },
  {
   "cell_type": "code",
   "execution_count": null,
   "metadata": {},
   "outputs": [],
   "source": [
    "check_SQL_result()"
   ]
  },
  {
   "cell_type": "markdown",
   "metadata": {},
   "source": [
    "### Analyse Sales Part 1"
   ]
  },
  {
   "cell_type": "code",
   "execution_count": null,
   "metadata": {},
   "outputs": [],
   "source": [
    "\"\"\"\n",
    "/*\n",
    " * Reports all product names of the products in the Sales table along with their selling year and price\n",
    " * \n",
    "Sales table:\n",
    "+---------+------------+------+----------+-------+\n",
    "| sale_id | product_id | year | quantity | price |\n",
    "+---------+------------+------+----------+-------+ \n",
    "| 1       | 100        | 2008 | 10       | 5000  |\n",
    "| 2       | 100        | 2009 | 12       | 5000  |\n",
    "| 7       | 200        | 2011 | 15       | 9000  |\n",
    "+---------+------------+------+----------+-------+\n",
    "\n",
    "Product table:\n",
    "+------------+--------------+\n",
    "| product_id | product_name |\n",
    "+------------+--------------+\n",
    "| 100        | Nokia        |\n",
    "| 200        | Apple        |\n",
    "| 300        | Samsung      |\n",
    "+------------+--------------+\n",
    "\n",
    "Result table:\n",
    "+--------------+-------+-------+\n",
    "| product_name | year  | price |\n",
    "+--------------+-------+-------+\n",
    "| Nokia        | 2008  | 5000  |\n",
    "| Nokia        | 2009  | 5000  |\n",
    "| Apple        | 2011  | 9000  |\n",
    "+--------------+-------+-------+*/\n",
    "\n",
    "DROP TABLE SALES;\n",
    "CREATE TABLE SALES (SALE_ID INT, PRODUCT_ID INT, YEAR INT, QUANTITY INT, PRICE INT);\n",
    "TRUNCATE TABLE SALES;\n",
    "INSERT ALL \n",
    "INTO SALES (SALE_ID, PRODUCT_ID, YEAR, QUANTITY, PRICE) VALUES ('1', '100', '2008', '10', '5000')\n",
    "INTO SALES (SALE_ID, PRODUCT_ID, YEAR, QUANTITY, PRICE) VALUES ('2', '100', '2009', '12', '5000')\n",
    "INTO SALES (SALE_ID, PRODUCT_ID, YEAR, QUANTITY, PRICE) VALUES ('7', '200', '2011', '15', '9000')\n",
    "SELECT * FROM DUAL;\n",
    "SELECT * FROM SALES;\n",
    "\n",
    "DROP TABLE PRODUCT;\n",
    "CREATE TABLE PRODUCT (PRODUCT_ID INT, PRODUCT_NAME VARCHAR(255));\n",
    "TRUNCATE TABLE PRODUCT;\n",
    "INSERT ALL \n",
    "INTO PRODUCT (PRODUCT_ID, PRODUCT_NAME) VALUES ('100', 'NOKIA')\n",
    "INTO PRODUCT (PRODUCT_ID, PRODUCT_NAME) VALUES ('200', 'APPLE')\n",
    "INTO PRODUCT (PRODUCT_ID, PRODUCT_NAME) VALUES ('300', 'SAMSUNG')\n",
    "SELECT * FROM DUAL;\n",
    "SELECT * FROM PRODUCT;\n",
    "COMMIT;\n",
    "\n",
    "Result : \n",
    "\n",
    "select a.product_name,b.year,b.price from product a \n",
    "join sales b on a.product_id = b.product_id;\n",
    "\"\"\"\n",
    "\n",
    "print()"
   ]
  },
  {
   "cell_type": "code",
   "execution_count": null,
   "metadata": {},
   "outputs": [],
   "source": [
    "df_product = load_data_frame('PRODUCT')\n",
    "df_sales = load_data_frame('SALES')"
   ]
  },
  {
   "cell_type": "code",
   "execution_count": null,
   "metadata": {},
   "outputs": [],
   "source": [
    "#pd.merge(df1, indexed_df2, left_on='key', right_index=True)\n",
    "pd.merge(df_product,df_sales,on = 'PRODUCT_ID' )[['PRODUCT_NAME','YEAR','PRICE']]"
   ]
  },
  {
   "cell_type": "code",
   "execution_count": null,
   "metadata": {},
   "outputs": [],
   "source": [
    "sql_query = 'select a.product_name,b.year,b.price from product a join sales b on a.product_id = b.product_id'"
   ]
  },
  {
   "cell_type": "code",
   "execution_count": null,
   "metadata": {},
   "outputs": [],
   "source": [
    "check_SQL_result(sql_query)"
   ]
  },
  {
   "cell_type": "markdown",
   "metadata": {},
   "source": [
    "### Analyse Sales Part 2"
   ]
  },
  {
   "cell_type": "code",
   "execution_count": null,
   "metadata": {},
   "outputs": [],
   "source": [
    "\"\"\"\n",
    "Write an SQL query that reports the total quantity sold for every product id.\n",
    "\n",
    "The query result format is in the following example:\n",
    "\n",
    "Result table:\n",
    "+--------------+----------------+\n",
    "| product_id   | total_quantity |\n",
    "+--------------+----------------+\n",
    "| 100          | 22             |\n",
    "| 200          | 15             |\n",
    "+--------------+----------------+\n",
    "\n",
    "\"\"\"\n",
    "print()"
   ]
  },
  {
   "cell_type": "code",
   "execution_count": null,
   "metadata": {},
   "outputs": [],
   "source": [
    "df_sales.groupby('PRODUCT_ID').agg({'QUANTITY':np.sum})"
   ]
  },
  {
   "cell_type": "code",
   "execution_count": null,
   "metadata": {},
   "outputs": [],
   "source": [
    "\"\"\"\n",
    "/*Table: Activity\n",
    "+--------------+---------+\n",
    "| Column Name  | Type    |\n",
    "+--------------+---------+\n",
    "| player_id    | int     |\n",
    "| device_id    | int     |\n",
    "| event_date   | date    |\n",
    "| games_played | int     |\n",
    "+--------------+---------+\n",
    "(player_id, event_date) is the primary key of this table.\n",
    "This table shows the activity of players of some game.\n",
    "Each row is a record of a player who logged in and played a number of games (possibly 0) before logging out on some day using some device.\n",
    "\n",
    "Write an SQL query that reports the first login date for each player.\n",
    "\n",
    "The query result format is in the following example:\n",
    "\n",
    "Activity table:\n",
    "+-----------+-----------+------------+--------------+\n",
    "| player_id | device_id | event_date | games_played |\n",
    "+-----------+-----------+------------+--------------+\n",
    "| 1         | 2         | 2016-03-01 | 5            |\n",
    "| 1         | 2         | 2016-05-02 | 6            |\n",
    "| 2         | 3         | 2017-06-25 | 1            |\n",
    "| 3         | 1         | 2016-03-02 | 0            |\n",
    "| 3         | 4         | 2018-07-03 | 5            |\n",
    "+-----------+-----------+------------+--------------+\n",
    "\n",
    "Result table:\n",
    "+-----------+-------------+\n",
    "| player_id | first_login |\n",
    "+-----------+-------------+\n",
    "| 1         | 2016-03-01  |\n",
    "| 2         | 2017-06-25  |\n",
    "| 3         | 2016-03-02  |\n",
    "+-----------+-------------+*/\n",
    "\n",
    "DROP TABLE ACTIVITY;\n",
    "CREATE TABLE ACTIVITY (PLAYER_ID INT, DEVICE_ID INT, EVENT_DATE DATE, GAMES_PLAYED INT);\n",
    "TRUNCATE TABLE ACTIVITY;\n",
    "INSERT ALL\n",
    "INTO ACTIVITY (PLAYER_ID, DEVICE_ID, EVENT_DATE, GAMES_PLAYED) VALUES ('1', '2', TO_DATE('2016-03-01', 'YYYY-MM-DD'), '5')\n",
    "INTO ACTIVITY (PLAYER_ID, DEVICE_ID, EVENT_DATE, GAMES_PLAYED) VALUES ('1', '2', TO_DATE('2016-05-02', 'YYYY-MM-DD'), '6')\n",
    "INTO ACTIVITY (PLAYER_ID, DEVICE_ID, EVENT_DATE, GAMES_PLAYED) VALUES ('2', '3', TO_DATE('2017-06-25', 'YYYY-MM-DD'), '1')\n",
    "INTO ACTIVITY (PLAYER_ID, DEVICE_ID, EVENT_DATE, GAMES_PLAYED) VALUES ('3', '1', TO_DATE('2016-03-02', 'YYYY-MM-DD'), '0')\n",
    "INTO ACTIVITY (PLAYER_ID, DEVICE_ID, EVENT_DATE, GAMES_PLAYED) VALUES ('3', '4', TO_DATE('2018-07-03', 'YYYY-MM-DD'), '5')\n",
    "SELECT * FROM DUAL;\n",
    "SELECT * FROM ACTIVITY;\n",
    "\n",
    "SELECT PLAYER_ID,\n",
    "MIN(EVENT_DATE) FIRST_LOGIN\n",
    "FROM ACTIVITY\n",
    "GROUP BY PLAYER_ID;\n",
    "\n",
    "\"\"\"\n",
    "\n",
    "print()"
   ]
  },
  {
   "cell_type": "code",
   "execution_count": null,
   "metadata": {},
   "outputs": [],
   "source": [
    "df  = load_data_frame('ACTIVITY')"
   ]
  },
  {
   "cell_type": "code",
   "execution_count": null,
   "metadata": {},
   "outputs": [],
   "source": [
    "df.groupby('PLAYER_ID').agg({'EVENT_DATE':np.min}).sort_values('PLAYER_ID',ascending = True)"
   ]
  },
  {
   "cell_type": "code",
   "execution_count": null,
   "metadata": {},
   "outputs": [],
   "source": [
    "sql_query = 'SELECT PLAYER_ID, MIN(EVENT_DATE) FIRST_LOGIN FROM ACTIVITY GROUP BY PLAYER_ID'"
   ]
  },
  {
   "cell_type": "code",
   "execution_count": null,
   "metadata": {},
   "outputs": [],
   "source": [
    "check_SQL_result()"
   ]
  },
  {
   "cell_type": "code",
   "execution_count": 39,
   "metadata": {},
   "outputs": [
    {
     "name": "stdout",
     "output_type": "stream",
     "text": [
      "\n"
     ]
    }
   ],
   "source": [
    "\"\"\"\n",
    "/*\n",
    "The Employee table holds all employees including their managers. Every employee has an Id, and there is also a column for the manager Id.\n",
    "\n",
    "+----+-------+--------+-----------+\n",
    "| Id | Name  | Salary | ManagerId |\n",
    "+----+-------+--------+-----------+\n",
    "| 1  | Joe   | 70000  | 3         |\n",
    "| 2  | Henry | 80000  | 4         |\n",
    "| 3  | Sam   | 60000  | NULL      |\n",
    "| 4  | Max   | 90000  | NULL      |\n",
    "+----+-------+--------+-----------+\n",
    "Given the Employee table, write a SQL query that finds out employees who earn more than their managers. \n",
    "For the above table, Joe is the only employee who earns more than his manager.\n",
    "\n",
    "+----------+\n",
    "| Employee |\n",
    "+----------+\n",
    "| Joe      |\n",
    "+----------+\n",
    "*/\n",
    "\n",
    "DROP TABLE EMPLOYEE;\n",
    "CREATE TABLE EMPLOYEE (ID INT, NAME VARCHAR(255), SALARY INT, MANAGERID INT);\n",
    "TRUNCATE TABLE EMPLOYEE;\n",
    "INSERT ALL\n",
    "INTO EMPLOYEE (ID, NAME, SALARY, MANAGERID) VALUES ('1', 'JOE', '70000', '3')\n",
    "INTO EMPLOYEE (ID, NAME, SALARY, MANAGERID) VALUES ('2', 'HENRY', '80000', '4')\n",
    "INTO EMPLOYEE (ID, NAME, SALARY) VALUES ('3', 'SAM', '60000')\n",
    "INTO EMPLOYEE (ID, NAME, SALARY) VALUES ('4', 'MAX', '90000')\n",
    "SELECT * FROM DUAL;\n",
    "SELECT * FROM EMPLOYEE;\n",
    "commit;\n",
    "\n",
    "\n",
    "-- [METHOD 1]\n",
    "SELECT E.NAME AS EMPLOYEE\n",
    "FROM EMPLOYEE E, \n",
    "EMPLOYEE M\n",
    "WHERE E.MANAGERID= M.ID --SELF JOIN\n",
    "AND E.SALARY > M.SALARY\n",
    "\n",
    "\n",
    "--[METHOD 2]\n",
    "SELECT E.NAME AS EMPLOYEE\n",
    "FROM EMPLOYEE E\n",
    "WHERE EXISTS (\n",
    "               SELECT 1\n",
    "                 FROM EMPLOYEE M\n",
    "                WHERE E.MANAGERID = M.ID\n",
    "                  AND E.SALARY > M.SALARY\n",
    "              );\n",
    "--[METHOD 3]            \n",
    "select e1.name from employee e1 where e1.salary > (select e2.salary from employee e2 where e1.managerid = e2.id);\n",
    "--[METHOD 4]\n",
    "select e1.name from employee e1, employee e2 where e1.managerid = e2.id and e1.salary > e2.salary;\n",
    "\n",
    "\n",
    "\"\"\"\n",
    "print()"
   ]
  },
  {
   "cell_type": "code",
   "execution_count": 70,
   "metadata": {},
   "outputs": [],
   "source": [
    "df = load_data_frame('EMPLOYEE')"
   ]
  },
  {
   "cell_type": "code",
   "execution_count": 71,
   "metadata": {},
   "outputs": [
    {
     "name": "stdout",
     "output_type": "stream",
     "text": [
      "Index(['ID_x', 'NAME_x', 'SALARY_x', 'MANAGERID_x', 'key', 'ID_y', 'NAME_y',\n",
      "       'SALARY_y', 'MANAGERID_y'],\n",
      "      dtype='object')\n"
     ]
    }
   ],
   "source": [
    "#create cross join \n",
    "\n",
    "df['key'] = 0\n",
    "\n",
    "temp = pd.merge(df,df, on = 'key', how='outer')\n",
    "print(temp.columns) "
   ]
  },
  {
   "cell_type": "code",
   "execution_count": 82,
   "metadata": {},
   "outputs": [
    {
     "data": {
      "text/plain": [
       "2    JOE\n",
       "Name: NAME_x, dtype: object"
      ]
     },
     "execution_count": 82,
     "metadata": {},
     "output_type": "execute_result"
    }
   ],
   "source": [
    "temp[(temp.MANAGERID_x == temp.ID_y) & (temp.SALARY_x > temp.SALARY_y)]['NAME_x']"
   ]
  },
  {
   "cell_type": "code",
   "execution_count": 83,
   "metadata": {},
   "outputs": [
    {
     "name": "stdout",
     "output_type": "stream",
     "text": [
      "\n"
     ]
    }
   ],
   "source": [
    "\"\"\"\n",
    "/*\n",
    "Suppose that a website contains two tables, the Customers table and the Orders table. \n",
    "Write a SQL query to find all customers who never order anything.\n",
    "\n",
    "Table: Customers.\n",
    "+----+-------+\n",
    "| Id | Name  |\n",
    "+----+-------+\n",
    "| 1  | Joe   |\n",
    "| 2  | Henry |\n",
    "| 3  | Sam   |\n",
    "| 4  | Max   |\n",
    "+----+-------+\n",
    "\n",
    "Table: Orders.\n",
    "+----+------------+\n",
    "| Id | CustomerId |\n",
    "+----+------------+\n",
    "| 1  | 3          |\n",
    "| 2  | 1          |\n",
    "+----+------------+\n",
    "\n",
    "Using the above tables as example, return the following:\n",
    "+-----------+\n",
    "| Customers |\n",
    "+-----------+\n",
    "| Henry     |\n",
    "| Max       |\n",
    "+-----------+\n",
    "*/\n",
    "\n",
    "DROP TABLE CUSTOMERS;\n",
    "DROP TABLE ORDERS;\n",
    "CREATE TABLE CUSTOMERS (ID INT, NAME VARCHAR(255));\n",
    "CREATE TABLE ORDERS (ID INT, CUSTOMERID INT);\n",
    "TRUNCATE TABLE CUSTOMERS;\n",
    "INSERT ALL\n",
    "INTO CUSTOMERS (ID, NAME) VALUES ('1', 'JOE')\n",
    "INTO CUSTOMERS (ID, NAME) VALUES ('2', 'HENRY')\n",
    "INTO CUSTOMERS (ID, NAME) VALUES ('3', 'SAM')\n",
    "INTO CUSTOMERS (ID, NAME) VALUES ('4', 'MAX')\n",
    "SELECT * FROM DUAL;\n",
    "SELECT * FROM CUSTOMERS;\n",
    "\n",
    "\n",
    "TRUNCATE TABLE ORDERS;\n",
    "INSERT ALL\n",
    "INTO ORDERS (ID, CUSTOMERID) VALUES ('1', '3')\n",
    "INTO ORDERS (ID, CUSTOMERID) VALUES ('2', '1')\n",
    "SELECT * FROM DUAL;\n",
    "SELECT * FROM ORDERS;\n",
    "commit;\n",
    "--USE \"NOT IN\"\n",
    "SELECT NAME AS CUSTOMERS\n",
    "FROM CUSTOMERS\n",
    "WHERE ID NOT IN (SELECT CUSTOMERID \n",
    "                 FROM ORDERS);\n",
    "\t\t\t\t \n",
    "\n",
    "\"\"\"\n",
    "print()"
   ]
  },
  {
   "cell_type": "code",
   "execution_count": 91,
   "metadata": {},
   "outputs": [],
   "source": [
    "df_customers = load_data_frame('CUSTOMERS')\n",
    "df_orders = load_data_frame('ORDERS')"
   ]
  },
  {
   "cell_type": "code",
   "execution_count": 113,
   "metadata": {},
   "outputs": [
    {
     "data": {
      "text/html": [
       "<div>\n",
       "<style scoped>\n",
       "    .dataframe tbody tr th:only-of-type {\n",
       "        vertical-align: middle;\n",
       "    }\n",
       "\n",
       "    .dataframe tbody tr th {\n",
       "        vertical-align: top;\n",
       "    }\n",
       "\n",
       "    .dataframe thead th {\n",
       "        text-align: right;\n",
       "    }\n",
       "</style>\n",
       "<table border=\"1\" class=\"dataframe\">\n",
       "  <thead>\n",
       "    <tr style=\"text-align: right;\">\n",
       "      <th></th>\n",
       "      <th>ID</th>\n",
       "      <th>NAME</th>\n",
       "    </tr>\n",
       "  </thead>\n",
       "  <tbody>\n",
       "    <tr>\n",
       "      <th>1</th>\n",
       "      <td>2</td>\n",
       "      <td>HENRY</td>\n",
       "    </tr>\n",
       "    <tr>\n",
       "      <th>3</th>\n",
       "      <td>4</td>\n",
       "      <td>MAX</td>\n",
       "    </tr>\n",
       "  </tbody>\n",
       "</table>\n",
       "</div>"
      ],
      "text/plain": [
       "   ID   NAME\n",
       "1   2  HENRY\n",
       "3   4    MAX"
      ]
     },
     "execution_count": 113,
     "metadata": {},
     "output_type": "execute_result"
    }
   ],
   "source": [
    "df_customers[~df_customers.ID.isin(df_orders.CUSTOMERID)]"
   ]
  },
  {
   "cell_type": "code",
   "execution_count": 106,
   "metadata": {},
   "outputs": [],
   "source": [
    "sql_query = \"SELECT NAME AS CUSTOMERS FROM CUSTOMERS WHERE ID NOT IN (SELECT CUSTOMERID FROM ORDERS)\""
   ]
  },
  {
   "cell_type": "code",
   "execution_count": 112,
   "metadata": {},
   "outputs": [
    {
     "name": "stdout",
     "output_type": "stream",
     "text": [
      "  CUSTOMERS\n",
      "0       MAX\n",
      "1     HENRY\n"
     ]
    }
   ],
   "source": [
    "check_SQL_result(sql_query)"
   ]
  },
  {
   "cell_type": "code",
   "execution_count": 114,
   "metadata": {},
   "outputs": [
    {
     "name": "stdout",
     "output_type": "stream",
     "text": [
      "\n"
     ]
    }
   ],
   "source": [
    "\"\"\"\n",
    "/*\n",
    "There is a table courses with columns: student and class\n",
    "\n",
    "Please list out all classes which have more than or equal to 5 students.\n",
    "\n",
    "For example, the table:\n",
    "+---------+------------+\n",
    "| student | class      |\n",
    "+---------+------------+\n",
    "| A       | Math       |\n",
    "| B       | English    |\n",
    "| C       | Math       |\n",
    "| D       | Biology    |\n",
    "| E       | Math       |\n",
    "| F       | Computer   |\n",
    "| G       | Math       |\n",
    "| H       | Math       |\n",
    "| I       | Math       |\n",
    "+---------+------------+\n",
    "\n",
    "Should output:\n",
    "+---------+\n",
    "| class   |\n",
    "+---------+\n",
    "| Math    |\n",
    "+---------+\n",
    "\n",
    "Note:\n",
    "!!!! The students should not be counted duplicate in each course. !!!!\n",
    "\n",
    "*/\n",
    "\n",
    "CREATE TABLE COURSES (STUDENT VARCHAR(255), CLASS VARCHAR(255));\n",
    "TRUNCATE TABLE COURSES;\n",
    "INSERT ALL\n",
    "INTO COURSES (STUDENT, CLASS) VALUES ('A', 'MATH')\n",
    "INTO COURSES (STUDENT, CLASS) VALUES ('B', 'ENGLISH')\n",
    "INTO COURSES (STUDENT, CLASS) VALUES ('C', 'MATH')\n",
    "INTO COURSES (STUDENT, CLASS) VALUES ('D', 'BIOLOGY')\n",
    "INTO COURSES (STUDENT, CLASS) VALUES ('E', 'MATH')\n",
    "INTO COURSES (STUDENT, CLASS) VALUES ('F', 'COMPUTER')\n",
    "INTO COURSES (STUDENT, CLASS) VALUES ('G', 'MATH')\n",
    "INTO COURSES (STUDENT, CLASS) VALUES ('H', 'MATH')\n",
    "INTO COURSES (STUDENT, CLASS) VALUES ('I', 'MATH')\n",
    "SELECT * FROM DUAL;\n",
    "SELECT * FROM COURSES;\n",
    "\n",
    "--WRONG: THERE COULD BE SAME 2 STUDENTS!\n",
    "SELECT CLASS\n",
    "FROM COURSES\n",
    "GROUP BY CLASS\n",
    "HAVING COUNT(CLASS) >= 5;\n",
    "\n",
    "--[COUNTER EXAMPLE]\n",
    "TRUNCATE TABLE COURSES;\n",
    "INSERT ALL\n",
    "INTO COURSES (STUDENT, CLASS) VALUES ('A', 'MATH')\n",
    "INTO COURSES (STUDENT, CLASS) VALUES ('B', 'ENGLISH')\n",
    "INTO COURSES (STUDENT, CLASS) VALUES ('C', 'MATH')\n",
    "INTO COURSES (STUDENT, CLASS) VALUES ('D', 'BIOLOGY')\n",
    "INTO COURSES (STUDENT, CLASS) VALUES ('E', 'MATH')\n",
    "INTO COURSES (STUDENT, CLASS) VALUES ('F', 'MATH')\n",
    "INTO COURSES (STUDENT, CLASS) VALUES ('A', 'MATH')\n",
    "SELECT * FROM DUAL;\n",
    "-- DUPLICATE ROWS OF 'A','MATH'\n",
    "\n",
    "commit;\n",
    "\n",
    "--[METHOD 1] DISTINCT: DOESN'T SORT\n",
    "SELECT CLASS\n",
    "FROM (SELECT DISTINCT STUDENT, CLASS\n",
    "      FROM COURSES)\n",
    "GROUP BY CLASS\n",
    "HAVING COUNT(CLASS) >= 5;\n",
    "\n",
    "--[METHOD 2] GROUP BY: SORT\n",
    "SELECT CLASS\n",
    "FROM (SELECT STUDENT, CLASS\n",
    "      FROM COURSES \n",
    "      GROUP BY STUDENT, CLASS)\n",
    "GROUP BY CLASS\n",
    "HAVING COUNT(CLASS) >= 5;\n",
    "\n",
    "\"\"\"\n",
    "\n",
    "print()"
   ]
  },
  {
   "cell_type": "code",
   "execution_count": 118,
   "metadata": {},
   "outputs": [],
   "source": [
    "df = load_data_frame('COURSES')"
   ]
  },
  {
   "cell_type": "code",
   "execution_count": 126,
   "metadata": {},
   "outputs": [
    {
     "data": {
      "text/html": [
       "<div>\n",
       "<style scoped>\n",
       "    .dataframe tbody tr th:only-of-type {\n",
       "        vertical-align: middle;\n",
       "    }\n",
       "\n",
       "    .dataframe tbody tr th {\n",
       "        vertical-align: top;\n",
       "    }\n",
       "\n",
       "    .dataframe thead th {\n",
       "        text-align: right;\n",
       "    }\n",
       "</style>\n",
       "<table border=\"1\" class=\"dataframe\">\n",
       "  <thead>\n",
       "    <tr style=\"text-align: right;\">\n",
       "      <th></th>\n",
       "      <th>STUDENT</th>\n",
       "    </tr>\n",
       "    <tr>\n",
       "      <th>CLASS</th>\n",
       "      <th></th>\n",
       "    </tr>\n",
       "  </thead>\n",
       "  <tbody>\n",
       "    <tr>\n",
       "      <th>MATH</th>\n",
       "      <td>I</td>\n",
       "    </tr>\n",
       "  </tbody>\n",
       "</table>\n",
       "</div>"
      ],
      "text/plain": [
       "      STUDENT\n",
       "CLASS        \n",
       "MATH        I"
      ]
     },
     "execution_count": 126,
     "metadata": {},
     "output_type": "execute_result"
    }
   ],
   "source": [
    "df.groupby('CLASS').filter(lambda group : len(group)>5).groupby('CLASS').last()"
   ]
  },
  {
   "cell_type": "code",
   "execution_count": 127,
   "metadata": {},
   "outputs": [
    {
     "name": "stdout",
     "output_type": "stream",
     "text": [
      "\n"
     ]
    }
   ],
   "source": [
    "\"\"\"/*\n",
    "Given a Weather table, write a SQL query to find all dates' Ids with higher temperature compared to its !!!previous (yesterday's)!!! dates.\n",
    "\n",
    "+---------+------------------+------------------+\n",
    "| Id(INT) | RecordDate(DATE) | Temperature(INT) |\n",
    "+---------+------------------+------------------+\n",
    "|       1 |       2015-01-01 |               10 |\n",
    "|       2 |       2015-01-02 |               25 |\n",
    "|       3 |       2015-01-03 |               20 |\n",
    "|       4 |       2015-01-04 |               30 |\n",
    "+---------+------------------+------------------+\n",
    "For example, return the following Ids for the above Weather table:\n",
    "\n",
    "+----+\n",
    "| Id |\n",
    "+----+\n",
    "|  2 |\n",
    "|  4 |\n",
    "+----+\n",
    "*/\n",
    "\n",
    "CREATE TABLE WEATHER (ID INT, RECORDDATE DATE, TEMPERATURE INT);\n",
    "TRUNCATE TABLE WEATHER;\n",
    "INSERT ALL\n",
    "INTO WEATHER (ID, RECORDDATE, TEMPERATURE) VALUES ('1', TO_DATE('2015-01-01','YYYY-MM-DD'), '10')\n",
    "INTO WEATHER (ID, RECORDDATE, TEMPERATURE) VALUES ('2', TO_DATE('2015-01-02','YYYY-MM-DD'), '25')\n",
    "INTO WEATHER (ID, RECORDDATE, TEMPERATURE) VALUES ('3', TO_DATE('2015-01-03','YYYY-MM-DD'), '20')\n",
    "INTO WEATHER (ID, RECORDDATE, TEMPERATURE) VALUES ('4', TO_DATE('2015-01-04','YYYY-MM-DD'), '30')\n",
    "INTO WEATHER (ID, RECORDDATE, TEMPERATURE) VALUES ('5', TO_DATE('2015-01-14','YYYY-MM-DD'), '5')\n",
    "INTO WEATHER (ID, RECORDDATE, TEMPERATURE) VALUES ('6', TO_DATE('2015-01-16','YYYY-MM-DD'), '7') --EXCEPTION CASE \n",
    "SELECT * FROM DUAL;\n",
    "SELECT * FROM WEATHER;\n",
    "\n",
    "\n",
    "--select a.ID from weather a, weather b where a.recorddate = b.recorddate + 1 and a.temperature > b.temperature;\n",
    "\n",
    "--LAG() OVER(ORDER BY )\n",
    "SELECT ID,\n",
    "RECORDDATE RD,\n",
    "TEMPERATURE T,\n",
    "LAG (RECORDDATE) OVER (ORDER BY RECORDDATE) PRE_RD, --ONE ROW BEFORE\n",
    "LAG (TEMPERATURE) OVER (ORDER BY RECORDDATE) PRE_T --ONE ROW BEFORE\n",
    "FROM WEATHER;\n",
    "        \n",
    "--FINAL\n",
    "SELECT ID\n",
    "  FROM (\n",
    "        SELECT ID,\n",
    "        RECORDDATE RD,\n",
    "        TEMPERATURE T,\n",
    "        LAG (RECORDDATE) OVER (ORDER BY RECORDDATE) PRE_RD, --ONE ROW BEFORE\n",
    "        LAG (TEMPERATURE) OVER (ORDER BY RECORDDATE) PRE_T --ONE ROW BEFORE\n",
    "        FROM WEATHER\n",
    "       )\n",
    " WHERE PRE_RD + 1 = RD --NEEDED IN CASE THE DATA IS:[1, \"2000-12-14\", 3], [2, \"2000-12-16\", 5]\n",
    " AND PRE_T < T;\n",
    "\n",
    "\"\"\"\n",
    "print()"
   ]
  },
  {
   "cell_type": "code",
   "execution_count": 128,
   "metadata": {},
   "outputs": [],
   "source": [
    "df = load_data_frame('WEATHER')"
   ]
  },
  {
   "cell_type": "code",
   "execution_count": 129,
   "metadata": {},
   "outputs": [],
   "source": [
    "df['key'] = 1"
   ]
  },
  {
   "cell_type": "code",
   "execution_count": 131,
   "metadata": {},
   "outputs": [],
   "source": [
    "temp = pd.merge(df,df,on = 'key')"
   ]
  },
  {
   "cell_type": "code",
   "execution_count": 141,
   "metadata": {},
   "outputs": [
    {
     "data": {
      "text/plain": [
       "Index(['ID_x', 'RECORDDATE_x', 'TEMPERATURE_x', 'key', 'ID_y', 'RECORDDATE_y',\n",
       "       'TEMPERATURE_y'],\n",
       "      dtype='object')"
      ]
     },
     "execution_count": 141,
     "metadata": {},
     "output_type": "execute_result"
    }
   ],
   "source": [
    "temp.columns"
   ]
  },
  {
   "cell_type": "code",
   "execution_count": 140,
   "metadata": {},
   "outputs": [
    {
     "data": {
      "text/html": [
       "<div>\n",
       "<style scoped>\n",
       "    .dataframe tbody tr th:only-of-type {\n",
       "        vertical-align: middle;\n",
       "    }\n",
       "\n",
       "    .dataframe tbody tr th {\n",
       "        vertical-align: top;\n",
       "    }\n",
       "\n",
       "    .dataframe thead th {\n",
       "        text-align: right;\n",
       "    }\n",
       "</style>\n",
       "<table border=\"1\" class=\"dataframe\">\n",
       "  <thead>\n",
       "    <tr style=\"text-align: right;\">\n",
       "      <th></th>\n",
       "      <th>ID_x</th>\n",
       "    </tr>\n",
       "  </thead>\n",
       "  <tbody>\n",
       "    <tr>\n",
       "      <th>6</th>\n",
       "      <td>2</td>\n",
       "    </tr>\n",
       "    <tr>\n",
       "      <th>20</th>\n",
       "      <td>4</td>\n",
       "    </tr>\n",
       "  </tbody>\n",
       "</table>\n",
       "</div>"
      ],
      "text/plain": [
       "    ID_x\n",
       "6      2\n",
       "20     4"
      ]
     },
     "execution_count": 140,
     "metadata": {},
     "output_type": "execute_result"
    }
   ],
   "source": [
    "temp[(temp.RECORDDATE_x == temp.RECORDDATE_y + pd.DateOffset(days=1)) & (temp.TEMPERATURE_x > temp.TEMPERATURE_y)][['ID_x']]"
   ]
  },
  {
   "cell_type": "code",
   "execution_count": 142,
   "metadata": {},
   "outputs": [
    {
     "name": "stdout",
     "output_type": "stream",
     "text": [
      "\n"
     ]
    }
   ],
   "source": [
    "\"\"\"\n",
    "/*\n",
    "Write a SQL query to delete all duplicate email entries in a table named Person, keeping only unique emails based on its smallest Id.\n",
    "+----+------------------+\n",
    "| Id | Email            |\n",
    "+----+------------------+\n",
    "| 1  | john@example.com |\n",
    "| 2  | bob@example.com  |\n",
    "| 3  | john@example.com |\n",
    "+----+------------------+\n",
    "Id is the primary key column for this table.\n",
    "\n",
    "\n",
    "For example, after running your query, the above Person table should have the following rows:\n",
    "+----+------------------+\n",
    "| Id | Email            |\n",
    "+----+------------------+\n",
    "| 1  | john@example.com |\n",
    "| 2  | bob@example.com  |\n",
    "+----+------------------+\n",
    "Note:\n",
    "Your output is the whole Person table after executing your sql. Use delete statement.\n",
    "*/\n",
    "\n",
    "DROP TABLE PERSON;\n",
    "CREATE TABLE PERSON (ID INT, EMAIL VARCHAR(255));\n",
    "TRUNCATE TABLE PERSON;\n",
    "\n",
    "INSERT ALL\n",
    "INTO PERSON (ID, EMAIL) VALUES ('1', 'JOHN@EXAMPLE.COM')\n",
    "INTO PERSON (ID, EMAIL) VALUES ('2', 'BOB@EXAMPLE.COM')\n",
    "INTO PERSON (ID, EMAIL) VALUES ('3', 'JOHN@EXAMPLE.COM')\n",
    "SELECT * FROM DUAL;\n",
    "SELECT * FROM PERSON;\n",
    "commit;\n",
    "\n",
    "delete from PERSON where id not in (select min(id) from person group by email);\n",
    "--FINAL\n",
    "DELETE FROM PERSON\n",
    "WHERE ID NOT IN (\n",
    "                  SELECT ID\n",
    "                  FROM (\n",
    "                        SELECT MIN(P.ID) ID\n",
    "                        FROM PERSON P\n",
    "                        GROUP BY P.EMAIL\n",
    "                       ) A --temp table\n",
    "                  );\n",
    "\n",
    "\n",
    "--[REFERENCE] DOESN'T WORK!!\n",
    "-- => it is because I am asking to delete while I am referencing to my own table\n",
    "-- => so I need to make it into temp table, therefore need temp table A\n",
    "DELETE FROM PERSON\n",
    "WHERE ID NOT IN (\n",
    "                SELECT MIN(ID) AS ID\n",
    "                FROM PERSON\n",
    "                GROUP BY EMAIL\n",
    "                );\n",
    "\"\"\"\n",
    "print()"
   ]
  },
  {
   "cell_type": "code",
   "execution_count": 143,
   "metadata": {},
   "outputs": [],
   "source": [
    "df = load_data_frame('PERSON')"
   ]
  },
  {
   "cell_type": "code",
   "execution_count": 147,
   "metadata": {},
   "outputs": [
    {
     "data": {
      "text/html": [
       "<div>\n",
       "<style scoped>\n",
       "    .dataframe tbody tr th:only-of-type {\n",
       "        vertical-align: middle;\n",
       "    }\n",
       "\n",
       "    .dataframe tbody tr th {\n",
       "        vertical-align: top;\n",
       "    }\n",
       "\n",
       "    .dataframe thead th {\n",
       "        text-align: right;\n",
       "    }\n",
       "</style>\n",
       "<table border=\"1\" class=\"dataframe\">\n",
       "  <thead>\n",
       "    <tr style=\"text-align: right;\">\n",
       "      <th></th>\n",
       "      <th>ID</th>\n",
       "      <th>EMAIL</th>\n",
       "    </tr>\n",
       "  </thead>\n",
       "  <tbody>\n",
       "    <tr>\n",
       "      <th>0</th>\n",
       "      <td>1</td>\n",
       "      <td>JOHN@EXAMPLE.COM</td>\n",
       "    </tr>\n",
       "    <tr>\n",
       "      <th>1</th>\n",
       "      <td>2</td>\n",
       "      <td>BOB@EXAMPLE.COM</td>\n",
       "    </tr>\n",
       "  </tbody>\n",
       "</table>\n",
       "</div>"
      ],
      "text/plain": [
       "   ID             EMAIL\n",
       "0   1  JOHN@EXAMPLE.COM\n",
       "1   2   BOB@EXAMPLE.COM"
      ]
     },
     "execution_count": 147,
     "metadata": {},
     "output_type": "execute_result"
    }
   ],
   "source": [
    "df.drop_duplicates(subset = 'EMAIL')"
   ]
  },
  {
   "cell_type": "code",
   "execution_count": 148,
   "metadata": {},
   "outputs": [
    {
     "name": "stdout",
     "output_type": "stream",
     "text": [
      "\n"
     ]
    }
   ],
   "source": [
    "\"\"\"\n",
    "\n",
    "/*\n",
    "Write a SQL query to get the second highest salary from the Employee table.\n",
    "\n",
    "+----+--------+\n",
    "| Id | Salary |\n",
    "+----+--------+\n",
    "| 1  | 100    |\n",
    "| 2  | 200    |\n",
    "| 3  | 300    |\n",
    "+----+--------+\n",
    "For example, given the above Employee table, the query should return 200 as the second highest salary. If there is no second highest salary, then the query should return null.\n",
    "\n",
    "+---------------------+\n",
    "| SecondHighestSalary |\n",
    "+---------------------+\n",
    "| 200                 |\n",
    "+---------------------+\n",
    "*/\n",
    "\n",
    "DROP TABLE EMPLOYEE;\n",
    "CREATE TABLE EMPLOYEE (ID INT, SALARY INT);\n",
    "TRUNCATE TABLE EMPLOYEE;\n",
    "INSERT ALL\n",
    "INTO EMPLOYEE (ID, SALARY) VALUES ('1', '100')\n",
    "INTO EMPLOYEE (ID, SALARY) VALUES ('2', '100')\n",
    "INTO EMPLOYEE (ID, SALARY) VALUES ('3', '200')\n",
    "INTO EMPLOYEE (ID, SALARY) VALUES ('4', '300')\n",
    "INTO EMPLOYEE (ID, SALARY) VALUES ('5', '300')\n",
    "SELECT * FROM DUAL;\n",
    "SELECT * FROM EMPLOYEE;\n",
    "\n",
    "SELECT SALARY\n",
    "FROM\n",
    "(\n",
    "SELECT ID,\n",
    "SALARY,\n",
    "DENSE_RANK() OVER (ORDER BY SALARY) RRR,\n",
    "RANK() OVER (ORDER BY SALARY) R\n",
    "FROM EMPLOYEE\n",
    ")\n",
    "WHERE RRR = 2;\n",
    "\n",
    "\n",
    "--NOT WORKING!! THERE CAN BE SAME SALARY SO I SHOULDNT USE LEAD/LAG\n",
    "SELECT \n",
    "LEAD(SALARY,1) OVER (ORDER BY SALARY) AS SECONDHIGHESTSALARY\n",
    "FROM EMPLOYEE\n",
    "ORDER BY SALARY\n",
    "WHERE ROWNUM=1;\n",
    "\n",
    "\n",
    "--[METHOD 1]: key is \"second largest\"\n",
    "SELECT MAX(SALARY) AS SECONDHIGHESTSALARY\n",
    "FROM EMPLOYEE\n",
    "WHERE SALARY < (\n",
    "\t\t\t\tSELECT MAX(SALARY)\n",
    "                FROM EMPLOYEE\n",
    "                );\n",
    "\n",
    "SELECT MAX(SALARY) AS SECONDHIGHESTSALARY\n",
    "FROM EMPLOYEE\n",
    "WHERE SALARY NOT IN (\n",
    "\t\t\t\t\tSELECT MAX(SALARY)\n",
    "\t\t\t\t\tFROM EMPLOYEE\n",
    "\t\t\t\t\t);\n",
    "\t\t\n",
    "\t\n",
    "--[METHOD 2] DENSE_RANK()\n",
    "SELECT SALARY SecondHighestSalary\n",
    "FROM\n",
    "(\n",
    "\tSELECT ID,\n",
    "\tSALARY,\n",
    "\tDENSE_RANK() OVER (ORDER BY SALARY) DRK\n",
    "\tFROM EMPLOYEE\n",
    ")\n",
    "WHERE DRK = 2;\n",
    "\n",
    "\"\"\"\n",
    "\n",
    "print()"
   ]
  },
  {
   "cell_type": "code",
   "execution_count": null,
   "metadata": {},
   "outputs": [],
   "source": []
  }
 ],
 "metadata": {
  "kernelspec": {
   "display_name": "Python 3",
   "language": "python",
   "name": "python3"
  },
  "language_info": {
   "codemirror_mode": {
    "name": "ipython",
    "version": 3
   },
   "file_extension": ".py",
   "mimetype": "text/x-python",
   "name": "python",
   "nbconvert_exporter": "python",
   "pygments_lexer": "ipython3",
   "version": "3.7.6"
  }
 },
 "nbformat": 4,
 "nbformat_minor": 4
}
